{
  "nbformat": 4,
  "nbformat_minor": 0,
  "metadata": {
    "colab": {
      "provenance": []
    },
    "kernelspec": {
      "name": "python3",
      "display_name": "Python 3"
    },
    "language_info": {
      "name": "python"
    }
  },
  "cells": [
    {
      "cell_type": "code",
      "execution_count": 1,
      "metadata": {
        "id": "qG2WQ51HAdQe"
      },
      "outputs": [],
      "source": [
        "import io\n",
        "import random\n",
        "import string\n",
        "import warnings\n",
        "warnings.filterwarnings('ignore')\n",
        "import numpy as np\n",
        "from sklearn.feature_extraction.text import TfidfVectorizer\n",
        "from sklearn.metrics.pairwise import cosine_similarity\n",
        "from nltk.stem import WordNetLemmatizer"
      ]
    },
    {
      "cell_type": "code",
      "source": [
        "import nltk"
      ],
      "metadata": {
        "id": "OwHuLtSiAiCS"
      },
      "execution_count": 2,
      "outputs": []
    },
    {
      "cell_type": "code",
      "source": [
        "nltk.download('popular',quiet=True)\n",
        "nltk.download('punkt')\n",
        "nltk.download('wordnet')"
      ],
      "metadata": {
        "colab": {
          "base_uri": "https://localhost:8080/"
        },
        "id": "fPC1xdPBApFz",
        "outputId": "0d80acac-cfd9-4b13-9ee6-8cf20c6b3f08"
      },
      "execution_count": 3,
      "outputs": [
        {
          "output_type": "stream",
          "name": "stderr",
          "text": [
            "[nltk_data] Downloading package punkt to /root/nltk_data...\n",
            "[nltk_data]   Package punkt is already up-to-date!\n",
            "[nltk_data] Downloading package wordnet to /root/nltk_data...\n",
            "[nltk_data]   Package wordnet is already up-to-date!\n"
          ]
        },
        {
          "output_type": "execute_result",
          "data": {
            "text/plain": [
              "True"
            ]
          },
          "metadata": {},
          "execution_count": 3
        }
      ]
    },
    {
      "cell_type": "code",
      "source": [
        "f = open('/content/input.txt','r',errors = 'ignore')\n",
        "raw = f.read()\n",
        "raw = raw.lower()"
      ],
      "metadata": {
        "id": "CD88EwGlApvk"
      },
      "execution_count": 5,
      "outputs": []
    },
    {
      "source": [
        "import nltk\n",
        "nltk.download('punkt_tab')\n",
        "f = open('/content/input.txt','r',errors = 'ignore')\n",
        "raw = f.read()\n",
        "raw = raw.lower()\n",
        "sent_tokens = nltk.sent_tokenize(raw)\n",
        "word_tokens = nltk.word_tokenize(raw)"
      ],
      "cell_type": "code",
      "metadata": {
        "colab": {
          "base_uri": "https://localhost:8080/"
        },
        "id": "_3gzEaydBPP_",
        "outputId": "b973b70e-1105-4246-9ec2-33a3b76a4d76"
      },
      "execution_count": 8,
      "outputs": [
        {
          "output_type": "stream",
          "name": "stderr",
          "text": [
            "[nltk_data] Downloading package punkt_tab to /root/nltk_data...\n",
            "[nltk_data]   Package punkt_tab is already up-to-date!\n"
          ]
        }
      ]
    },
    {
      "cell_type": "code",
      "source": [
        "lemmer = nltk.stem.WordNetLemmatizer()\n",
        "def LemTokens(tokens):\n",
        "  return [lemmer.lemmatize(token) for token in tokens]\n",
        "remove_punct_dict = dict((ord(punct),None) for punct in string.punctuation)\n",
        "def LemNormalize(text):\n",
        "    return LemTokens(nltk.word_tokenize(text.lower().translate(remove_punct_dict)))"
      ],
      "metadata": {
        "id": "_W1Kq5AGBs9N"
      },
      "execution_count": 10,
      "outputs": []
    },
    {
      "cell_type": "code",
      "source": [
        "GREETINGS_INPUTS =(\"hello\",\"hi\",\"greetings\",\"sup\",\"what's up\",\"hey\")\n",
        "GREETINGS_RESPONSES = [\"hi\",\"hey\",\"*nods*\",\"hi there\",\"hello\",\"I am glad! You are talking to me\"]\n",
        "def greetings(sentence):\n",
        "  for word in sentence.split():\n",
        "    if word.lower() in GREETINGS_INPUTS:\n",
        "      return random.choice(GREETINGS_RESPONSES)"
      ],
      "metadata": {
        "id": "fDlAxr6fBx01"
      },
      "execution_count": 11,
      "outputs": []
    },
    {
      "cell_type": "code",
      "source": [
        "def response(user_response):\n",
        "  robo_response = ''\n",
        "  sent_tokens.append(user_response)\n",
        "  TfidfVec = TfidfVectorizer(tokenizer=LemNormalize,stop_words='english')\n",
        "  tfidf = TfidfVec.fit_transform(sent_tokens)\n",
        "  vals = cosine_similarity(tfidf[-1],tfidf)\n",
        "  idx = vals.argsort()[0][-2]\n",
        "  flat = vals.flatten()\n",
        "  flat.sort()\n",
        "  req_tfidf = flat[-2]\n",
        "  if(req_tfidf == 0):\n",
        "    robo_response = robo_response + \"I am sorry! I don't understand you\"\n",
        "    return robo_response\n",
        "  else:\n",
        "    robo_response = robo_response + sent_tokens[idx]\n",
        "    return robo_response"
      ],
      "metadata": {
        "id": "gb2uxgkQCFzQ"
      },
      "execution_count": 12,
      "outputs": []
    },
    {
      "cell_type": "code",
      "source": [
        "flag = True\n",
        "print(\"SABOT: My name is BOT. How can I assist you?.\\\n",
        " If you want to exit, type Bye!\")\n",
        "while (flag == True):\n",
        "  user_response = input()\n",
        "  user_response = user_response.lower()\n",
        "  if(user_response != 'bye'):\n",
        "    if(user_response == 'thanks' or user_response == 'thank you'):\n",
        "      flag = False\n",
        "      print(\"SABOT: You are welcome..\")\n",
        "    else:\n",
        "      if(greetings(user_response) != None):\n",
        "        print(\"SABOT: \"+greetings(user_response))\n",
        "      else:\n",
        "        print(\"SABOT: \",end=\"\")\n",
        "  else:\n",
        "    flag = False\n",
        "    print(\"SABOT: Bye! take care..\")"
      ],
      "metadata": {
        "colab": {
          "base_uri": "https://localhost:8080/"
        },
        "id": "tVp805uKCcWv",
        "outputId": "0efa2517-7781-4783-f6f5-e59e6f57d426"
      },
      "execution_count": 13,
      "outputs": [
        {
          "output_type": "stream",
          "name": "stdout",
          "text": [
            "SABOT: My name is BOT. How can I assist you?. If you want to exit, type Bye!\n",
            "exit\n",
            "SABOT: Bye!\n",
            "SABOT: bye\n",
            "SABOT: Bye! take care..\n"
          ]
        }
      ]
    },
    {
      "cell_type": "code",
      "source": [],
      "metadata": {
        "id": "_21Tj3aCD0ro"
      },
      "execution_count": null,
      "outputs": []
    }
  ]
}