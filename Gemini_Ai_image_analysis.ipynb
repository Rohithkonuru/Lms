{
  "nbformat": 4,
  "nbformat_minor": 0,
  "metadata": {
    "colab": {
      "provenance": [],
      "gpuType": "T4",
      "authorship_tag": "ABX9TyPpEvY+w773VGwGGqs+Paac",
      "include_colab_link": true
    },
    "kernelspec": {
      "name": "python3",
      "display_name": "Python 3"
    },
    "language_info": {
      "name": "python"
    },
    "accelerator": "GPU"
  },
  "cells": [
    {
      "cell_type": "markdown",
      "metadata": {
        "id": "view-in-github",
        "colab_type": "text"
      },
      "source": [
        "<a href=\"https://colab.research.google.com/github/Rohithkonuru/Lms/blob/main/Gemini_Ai_image_analysis.ipynb\" target=\"_parent\"><img src=\"https://colab.research.google.com/assets/colab-badge.svg\" alt=\"Open In Colab\"/></a>"
      ]
    },
    {
      "cell_type": "code",
      "source": [
        "import google.generativeai as genai\n",
        "from google.colab import userdata\n",
        "GOOGLE_API_KEY=userdata.get('GOOGLE_API_KEY')\n",
        "genai.configure(api_key=GOOGLE_API_KEY)"
      ],
      "metadata": {
        "id": "Q5MbsKq4aOlk"
      },
      "execution_count": 2,
      "outputs": []
    },
    {
      "cell_type": "code",
      "source": [
        "import pathlib\n",
        "import textwrap\n",
        "from IPython.display import display, Markdown\n",
        "def to_markdown(text):\n",
        "  text = text.replace('•', '  *')\n",
        "  return Markdown(textwrap.indent(text, '> ', predicate=lambda _: True))"
      ],
      "metadata": {
        "id": "E2fjJlKAZJUH"
      },
      "execution_count": 3,
      "outputs": []
    },
    {
      "cell_type": "code",
      "source": [
        "import PIL.Image\n",
        "img=PIL.Image.open('image1.jpg')\n",
        "img\n",
        "model=genai.GenerativeModel('gemini-1.5-flash')\n",
        "response=model.generate_content([\"Write a short, engaging blog post based on this picture. It should include a description of the meal inthe photo and talk about my journey meal preparing.\",img], stream=True )\n",
        "response.resolve()"
      ],
      "metadata": {
        "id": "DEPH_tKmaYY8"
      },
      "execution_count": 8,
      "outputs": []
    },
    {
      "cell_type": "code",
      "source": [
        "import pathlib\n",
        "import textwrap\n",
        "from IPython.display import display, Markdown\n",
        "def to_markdown(text):\n",
        "  text = text.replace('•', '  *')\n",
        "  return Markdown(textwrap.indent(text, '> ', predicate=lambda _: True))"
      ],
      "metadata": {
        "id": "eXGYUeJzelz5"
      },
      "execution_count": 16,
      "outputs": []
    },
    {
      "cell_type": "code",
      "source": [
        "to_markdown(response.text)"
      ],
      "metadata": {
        "colab": {
          "base_uri": "https://localhost:8080/",
          "height": 326
        },
        "id": "SANJ0dzggbgm",
        "outputId": "8a9bb920-31c2-4f42-d867-2c3bc050320a"
      },
      "execution_count": 17,
      "outputs": [
        {
          "output_type": "execute_result",
          "data": {
            "text/plain": [
              "<IPython.core.display.Markdown object>"
            ],
            "text/markdown": "> Here's a caption for the image:\n> \n> **Option 1 (Concise):**\n> \n> > Healthy and delicious meal prep!  Chicken and broccoli with rice.\n> \n> **Option 2 (More Descriptive):**\n> \n> > Two containers of easy and nutritious meal prep.  Each includes teriyaki chicken, broccoli, carrots, and rice. Perfect for a healthy lunch or dinner.\n> \n> **Option 3 (Engaging):**\n> \n> >  Lunch goals! ✨  These chicken and veggie bowls are packed with flavor and ready to go.  What's your favorite meal prep recipe? #mealprep #healthyfood #chickendinner #broccoli\n> \n> \n> Choose the option that best suits your needs and intended audience.\n"
          },
          "metadata": {},
          "execution_count": 17
        }
      ]
    },
    {
      "cell_type": "code",
      "source": [
        "response = model.generate_content([\"Generate an accurate caption for this image.\",img])\n",
        "print(response.text)"
      ],
      "metadata": {
        "colab": {
          "base_uri": "https://localhost:8080/",
          "height": 332
        },
        "id": "IO36p7qdcLs_",
        "outputId": "d44dd4b7-e5cb-4cfb-f8fa-73120e195689"
      },
      "execution_count": 18,
      "outputs": [
        {
          "output_type": "stream",
          "name": "stdout",
          "text": [
            "Here's a caption for the image:\n",
            "\n",
            "**Option 1 (Concise):**\n",
            "\n",
            "> Healthy and delicious meal prep! Chicken and broccoli with rice.\n",
            "\n",
            "**Option 2 (More descriptive):**\n",
            "\n",
            "> Two containers of teriyaki chicken and broccoli over rice, perfect for meal prepping.  A healthy and flavorful lunch or dinner option.\n",
            "\n",
            "**Option 3 (Engaging):**\n",
            "\n",
            "> Conquer your week with these easy and nutritious meal prep bowls!  Chicken, broccoli, carrots, and rice - yum!  What are your favorite meal prep ideas? #mealprep #healthyfood #chickendinner #broccoli #rice\n",
            "\n",
            "\n",
            "Choose the option that best suits your needs and intended audience.\n",
            "\n"
          ]
        }
      ]
    },
    {
      "cell_type": "code",
      "source": [
        "from PIL import Image\n",
        "image_path = \"girl.jpg\"\n",
        "image = Image.open(image_path)\n",
        "response = model.generate_content([\"Describe this image in detail.\", image])\n",
        "print(response.text)"
      ],
      "metadata": {
        "colab": {
          "base_uri": "https://localhost:8080/",
          "height": 263
        },
        "id": "hAZAOrIUgg1o",
        "outputId": "b172f06e-d866-41df-c374-dd21892fce88"
      },
      "execution_count": 26,
      "outputs": [
        {
          "output_type": "stream",
          "name": "stdout",
          "text": [
            "Here's a description of the image:\n",
            "\n",
            "Close-up view of a woman with shoulder-length, curly brown hair. \n",
            "\n",
            "\n",
            "She is light-skinned and has a pleasant, smiling expression. Her makeup is subtle. She's wearing a teal, three-quarter sleeve top or kurta with a subtle gold print or pattern on it. The neckline is a simple, slightly open collar. \n",
            "\n",
            "\n",
            "The woman is gesturing with her right hand, her index finger pointing to the left of the frame, suggesting she is indicating something or drawing attention to something off-camera. Her arms are slightly crossed, and her pose is relaxed but engaged.\n",
            "\n",
            "\n",
            "The background is a plain, bright white, ensuring the focus remains entirely on the woman. The overall lighting is soft and even. The image has a clean, professional feel, possibly from a portrait studio or product photography setting.\n",
            "\n"
          ]
        }
      ]
    },
    {
      "cell_type": "code",
      "source": [
        "response = model.generate_content([\"What emotions can you dtect in this image?\",image])\n",
        "print(response.text)"
      ],
      "metadata": {
        "colab": {
          "base_uri": "https://localhost:8080/",
          "height": 72
        },
        "id": "Dxn-W1kNhEL6",
        "outputId": "1fa3789f-4158-4194-d692-94537cabf790"
      },
      "execution_count": 29,
      "outputs": [
        {
          "output_type": "stream",
          "name": "stdout",
          "text": [
            "The woman in the image appears to be expressing **confidence**, **friendliness**, and possibly **helpfulness**.  Her gesture of pointing suggests she's directing attention to something and wants to share information. Her smile conveys warmth and approachability.  The overall impression is positive and engaging.\n",
            "\n"
          ]
        }
      ]
    },
    {
      "cell_type": "code",
      "source": [
        "# open an image\n",
        "image_path = \"quote.jpg\"\n",
        "image = Image.open(image_path)\n",
        "# generate a caption\n",
        "response = model.generate_content([\"Describe this image in detail.\", image])\n",
        "print(response.text)"
      ],
      "metadata": {
        "colab": {
          "base_uri": "https://localhost:8080/",
          "height": 297
        },
        "id": "sOEbqszehHi6",
        "outputId": "7c8cbdac-a5f9-4d43-e165-ea20b4d14472"
      },
      "execution_count": 31,
      "outputs": [
        {
          "output_type": "stream",
          "name": "stdout",
          "text": [
            "Here's a description of the image:\n",
            "\n",
            "Close-up view of four light-colored wooden blocks stacked vertically on a cracked, light brown earth or stone surface. \n",
            "\n",
            "\n",
            "The blocks have text printed in black, which reads:\n",
            "\n",
            "* **FAILURE is not the** (top block)\n",
            "* **opposite of success** (second block)\n",
            "* **it's PART OF** (third block)\n",
            "* **SUCCESS** (bottom block)\n",
            "\n",
            "\n",
            "The background is a textured surface with noticeable cracks, suggesting dry earth or a similar material. The lighting suggests an outdoor or naturally lit setting. The overall mood is inspirational and motivational, conveying a message about the relationship between failure and success.\n",
            "\n"
          ]
        }
      ]
    },
    {
      "cell_type": "code",
      "source": [],
      "metadata": {
        "id": "5DKEvgqJju76"
      },
      "execution_count": null,
      "outputs": []
    }
  ]
}