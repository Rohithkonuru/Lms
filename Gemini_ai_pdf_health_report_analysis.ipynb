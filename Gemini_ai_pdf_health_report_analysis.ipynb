{
  "nbformat": 4,
  "nbformat_minor": 0,
  "metadata": {
    "colab": {
      "provenance": [],
      "authorship_tag": "ABX9TyMATSFcHL6Sk/vMA+PQ5LJ/",
      "include_colab_link": true
    },
    "kernelspec": {
      "name": "python3",
      "display_name": "Python 3"
    },
    "language_info": {
      "name": "python"
    }
  },
  "cells": [
    {
      "cell_type": "markdown",
      "metadata": {
        "id": "view-in-github",
        "colab_type": "text"
      },
      "source": [
        "<a href=\"https://colab.research.google.com/github/Rohithkonuru/Lms/blob/main/Gemini_ai_pdf_health_report_analysis.ipynb\" target=\"_parent\"><img src=\"https://colab.research.google.com/assets/colab-badge.svg\" alt=\"Open In Colab\"/></a>"
      ]
    },
    {
      "cell_type": "code",
      "execution_count": 2,
      "metadata": {
        "id": "No25nmcxNg_L"
      },
      "outputs": [],
      "source": [
        "# Configure Gemini API\n",
        "\n",
        "import google.generativeai as genai\n",
        "\n",
        "from google.colab import userdata\n",
        "\n",
        "GOOGLE_API_KEY=userdata.get('GOOGLE_API_KEY')\n",
        "\n",
        "genai.configure(api_key=GOOGLE_API_KEY)"
      ]
    },
    {
      "cell_type": "code",
      "source": [
        "!pip install PyPDF2"
      ],
      "metadata": {
        "colab": {
          "base_uri": "https://localhost:8080/"
        },
        "id": "Bf4jw5rtN_Rv",
        "outputId": "95a8e721-d3cc-4d51-99e6-6e9185e047c7"
      },
      "execution_count": 3,
      "outputs": [
        {
          "output_type": "stream",
          "name": "stdout",
          "text": [
            "Collecting PyPDF2\n",
            "  Downloading pypdf2-3.0.1-py3-none-any.whl.metadata (6.8 kB)\n",
            "Downloading pypdf2-3.0.1-py3-none-any.whl (232 kB)\n",
            "\u001b[2K   \u001b[90m━━━━━━━━━━━━━━━━━━━━━━━━━━━━━━━━━━━━━━━━\u001b[0m \u001b[32m232.6/232.6 kB\u001b[0m \u001b[31m3.6 MB/s\u001b[0m eta \u001b[36m0:00:00\u001b[0m\n",
            "\u001b[?25hInstalling collected packages: PyPDF2\n",
            "Successfully installed PyPDF2-3.0.1\n"
          ]
        }
      ]
    },
    {
      "cell_type": "code",
      "source": [
        "import PyPDF2\n",
        "def extract_text_from_pdf(pdf_path):\n",
        "  \"\"\"Extracts text from a given health report PDF using PYPDF2.\"\"\"\n",
        "  text = \"\"\n",
        "  with open(pdf_path, 'rb') as pdf_file:\n",
        "    reader = PyPDF2.PdfReader(pdf_file)\n",
        "    for page in reader.pages:\n",
        "      text += page.extract_text() + \"\\n\"\n",
        "  return text"
      ],
      "metadata": {
        "id": "TXOd-wdQOZIy"
      },
      "execution_count": 5,
      "outputs": []
    },
    {
      "cell_type": "code",
      "source": [
        "def extract_health_insights(text):\n",
        "  \"\"\"Asks Gemini AI to extract key medical insights from the report.\"\"\"\n",
        "  model = genai.GenerativeModel(\"gemini-1.5-flash\")\n",
        "  prompt = f\"Extract key insights from the following health report:\\n\\n{text}\"\n",
        "  reponse = model.generate_content(prompt)\n",
        "  return reponse.text\n",
        "#Example Usage\n",
        "pdf_file = \"health_report.pdf\"\n",
        "extracted_text = extract_text_from_pdf(pdf_file)\n",
        "insights = extract_health_insights(extracted_text)\n",
        "print(\"Key Insights:\\n\",insights)"
      ],
      "metadata": {
        "colab": {
          "base_uri": "https://localhost:8080/",
          "height": 505
        },
        "id": "Rn30YtAhO_FJ",
        "outputId": "9df79f88-1e5f-4b19-ae32-4f904cda8ace"
      },
      "execution_count": 7,
      "outputs": [
        {
          "output_type": "stream",
          "name": "stdout",
          "text": [
            "Key Insights:\n",
            " Mr. Kishan Goud's (MR Number: MR2100003157) health report from February 1st, 2021, reveals the following key insights:\n",
            "\n",
            "**Infectious Diseases:**\n",
            "\n",
            "* **Negative for Dengue:**  Tests for Dengue NS1 antigen, IgG, and IgM were all negative.\n",
            "* **Negative for Malaria:** Rapid Malaria tests for Plasmodium vivax (P.V) and Plasmodium falciparum (P.F) were negative.\n",
            "* **Elevated Widal Test:** While not definitively diagnostic, the Widal test showed elevated titers for *Salmonella Typhi* \"O\" (1:160) and \"H\" (1:80), suggesting possible past or present *Salmonella Typhi* infection.  The titers for *Salmonella Paratyphi* \"A\" and \"B\" were within the normal range.  Further investigation may be needed to confirm active typhoid infection.\n",
            "\n",
            "\n",
            "**Hematology:**\n",
            "\n",
            "* **Elevated ESR:** Erythrocyte Sedimentation Rate (ESR) was elevated (26 mm/hr in the first hour, 52 mm/hr in the second), indicating inflammation or infection.\n",
            "* **Complete Blood Count (CBC) mostly within normal limits:** Hemoglobin, RBC, WBC, platelets, and PCV were mostly within normal ranges, with only slightly low platelets. Differential count also showed normal ranges of neutrophils, lymphocytes, eosinophils, monocytes, and basophils.  RBCs were normocytic and normochromic.\n",
            "\n",
            "\n",
            "**Biochemistry:**\n",
            "\n",
            "* **Normal Liver Function Test (LFTs):** All liver function tests (bilirubin, alkaline phosphatase, SGOT, SGPT, total protein, albumin, globulin, and A/G ratio) were within normal ranges.\n",
            "* **Normal Creatinine and Blood Glucose:** Serum creatinine and random blood glucose levels were within normal limits.\n",
            "* **Slightly Low Serum Sodium:** Serum sodium level was slightly low (122 mmol/l) compared to the reference range (135-146 mmol/l).  Potassium and chloride levels were within normal range.\n",
            "* **Normal HbA1c:** HbA1c level (5.4%) indicates good blood sugar control, ruling out diabetes.\n",
            "\n",
            "**Overall:**\n",
            "\n",
            "The report shows some signs of infection (elevated ESR and mildly elevated Widal test for *Salmonella Typhi*), but negative results for dengue and malaria.  The slightly low sodium level warrants further investigation.  The majority of other tests show results within normal limits, suggesting generally good health apart from the possible infection indicated by the Widal and ESR.  The elevated Widal test should be considered along with other clinical findings to rule out typhoid fever. The slightly low sodium might be related to other factors or needs further investigation.\n",
            "\n"
          ]
        }
      ]
    },
    {
      "cell_type": "code",
      "source": [
        "def detect_abnormalities(text):\n",
        "  model=genai.GenerativeModel(\"gemini-1.5-flash\")\n",
        "  prompt=f\"Analyze the lab test results in the following health and highlight any abnormal values:\\n\\n{text}\"\n",
        "  response=model.generate_content(prompt)\n",
        "  return response.text\n",
        "abnormalities=detect_abnormalities(extracted_text)\n",
        "print(\"Summary:\\n\",abnormalities)"
      ],
      "metadata": {
        "colab": {
          "base_uri": "https://localhost:8080/",
          "height": 349
        },
        "id": "9WXIkigNRBfy",
        "outputId": "23168c6f-ccd4-42a5-c292-34b152c3889d"
      },
      "execution_count": 8,
      "outputs": [
        {
          "output_type": "stream",
          "name": "stdout",
          "text": [
            "Summary:\n",
            " Based on the provided lab results for Mr. Kishan Goud, the following values fall outside the reference ranges, indicating potential abnormalities:\n",
            "\n",
            "* **Widal Test:**  S. Typhi \"O\" (1:160) and S. Typhi \"H\" (1:80) are significantly higher than the reference range (1:20). This suggests a possible *Salmonella Typhi* infection (Typhoid fever).  The higher titer for \"O\" antigen is typically more indicative of active infection.\n",
            "\n",
            "* **Erythrocyte Sedimentation Rate (ESR):**  Both the 1st-hour (26 mm/hr) and 2nd-hour (52 mm/hr) ESR values are elevated above the reference range (0-8 mm/hr).  This indicates inflammation in the body.  The significantly higher 2nd-hour reading suggests a possible chronic inflammatory process.\n",
            "\n",
            "* **Serum Sodium:** The serum sodium level (122 mmol/l) is below the reference range (135-146 mmol/l), indicating hyponatremia (low sodium in the blood). This could have various causes and warrants further investigation.\n",
            "\n",
            "* **Serum Chloride:** The serum chloride level (97 mmol/l) is slightly below the lower limit of the reference range (98-107 mmol/l). While only marginally low, it could be related to the hyponatremia.\n",
            "\n",
            "\n",
            "**Values within normal ranges but warranting consideration in context:**\n",
            "\n",
            "* **Lymphocytes:** While within the reference range (31%), the Lymphocyte count is at the higher end.  This could be a reactive response to infection (such as the potential *Salmonella Typhi* infection suggested by the Widal test).\n",
            "\n",
            "**Important Note:** This analysis is based solely on the provided lab results and lacks clinical context.  A physician must interpret these results in conjunction with the patient's symptoms, medical history, and a thorough physical examination to make a diagnosis and determine the appropriate treatment plan.  The elevated ESR and the hyponatremia in particular necessitate further investigation to pinpoint their causes. The Widal test, while suggestive of typhoid, is not definitive and further tests might be needed to confirm the diagnosis.\n",
            "\n"
          ]
        }
      ]
    },
    {
      "cell_type": "code",
      "source": [
        "def explain_medical_terms(text):\n",
        "  \"\"\"Aska Gemini AI to simplify medical terms for patient understanding.\"\"\"\n",
        "  model = genai.GenerativeModel(\"gemini-1.5-flash\")\n",
        "  prompt = f\"Explain the medical terms in the following health report in simple language:\\n\\n{text}\"\n",
        "  response = model.generate_content(prompt)\n",
        "  return response.text\n",
        "explanation = explain_medical_terms(extracted_text)\n",
        "print(\"Explanation:\\n\",explanation)"
      ],
      "metadata": {
        "colab": {
          "base_uri": "https://localhost:8080/",
          "height": 887
        },
        "id": "PooMrZoWVsYR",
        "outputId": "ffbebd09-423e-4e97-e098-bc86e8424ea3"
      },
      "execution_count": 9,
      "outputs": [
        {
          "output_type": "stream",
          "name": "stdout",
          "text": [
            "Explanation:\n",
            " This report shows the results of several blood tests performed on Mr. Kishan Goud. Let's break down the results in simple terms:\n",
            "\n",
            "**1. Widal Test:** This test checks for antibodies against *Salmonella typhi* and *Salmonella paratyphi*, bacteria that cause typhoid fever and paratyphoid fever.  The numbers (e.g., 1:160) represent the dilution of the blood sample at which the antibodies are still detectable.  Higher numbers suggest a higher likelihood of infection.  In this case:\n",
            "\n",
            "* **S. Typhi \"O\" 1:160:**  Indicates a possible past or present infection with *Salmonella typhi*. The \"O\" refers to a specific type of antigen on the bacteria.\n",
            "* **S. Typhi \"H\" 1:80:** Also suggests possible past or present infection with *Salmonella typhi*. The \"H\" refers to a different antigen on the same bacteria.\n",
            "* **S. Paratyphi \"AH\" 1:20:**  Within the normal range, suggesting no significant infection with this type of *Salmonella*.\n",
            "* **S. Paratyphi \"BH\" 1:20:**  Within the normal range, suggesting no significant infection with this type of *Salmonella*.\n",
            "\n",
            "**2. Dengue Serology:** This tests for dengue fever.  All three results (NS1 Antigen, IgG, and IgM) are negative, meaning there's no evidence of a current or recent dengue infection.\n",
            "\n",
            "**3. Erythrocyte Sedimentation Rate (ESR):** This measures how quickly red blood cells settle in a test tube.  A higher ESR can indicate inflammation in the body.  Mr. Goud's ESR is elevated (26 mm/hr in the first hour, 52 mm/hr in the second), suggesting possible inflammation.  Further investigation would be needed to determine the cause.\n",
            "\n",
            "**4. Rapid Malaria Test:**  This test for malaria parasites was negative for both *Plasmodium vivax* (P.V) and *Plasmodium falciparum* (P.F), indicating no malaria infection.\n",
            "\n",
            "**5. Complete Blood Picture (CBC):** This is a comprehensive test that examines different components of the blood:\n",
            "\n",
            "* **Hemoglobin (Hb):** 13.6 g/dL (within the normal range), measures the oxygen-carrying capacity of red blood cells.\n",
            "* **Red Blood Cells (RBC):** 4.3 million/cumm (slightly low, but within the generally acceptable range).\n",
            "* **White Blood Cells (WBC):** 7,200 cells/cumm (within the normal range), which fight infection.\n",
            "* **Platelets:** 2.0 lakhs/cumm (within the normal range), important for blood clotting.\n",
            "* **Packed Cell Volume (PCV):** 40.5% (within the normal range), the percentage of red blood cells in the blood.\n",
            "* **Differential Count:** This breaks down the types of white blood cells. All are within or near the normal ranges.\n",
            "* **Peripheral Blood Smear:**  A microscopic examination of the blood sample showing that the red blood cells, white blood cells, and platelets all look normal.\n",
            "\n",
            "**6. HbA1c:** This measures average blood sugar levels over the past 2-3 months.  Mr. Goud's HbA1c of 5.4% is within the normal range for someone who doesn't have diabetes.\n",
            "\n",
            "**7. Serum Creatinine:** This measures kidney function.  Mr. Goud's level is 0.8 mg/dL, within the normal range.\n",
            "\n",
            "**8. Random Blood Glucose:** This measures blood sugar at a single point in time.  Mr. Goud's level is not provided in the results but the normal range is 60-170 mg/dL.\n",
            "\n",
            "**9. Liver Function Test (LFT):**  These tests assess liver health:\n",
            "\n",
            "* **Total Bilirubin, Direct Bilirubin, Indirect Bilirubin:** All bilirubin levels are within the normal range, indicating normal liver function related to bilirubin processing.\n",
            "* **Alkaline Phosphatase (ALP):**  Within the normal range.\n",
            "* **SGOT (AST) and SGPT (ALT):** These liver enzymes are slightly elevated but still within the generally acceptable range, possibly indicating mild liver stress but not necessarily significant liver damage.\n",
            "* **Total Protein and Albumin:**  Both within the normal range, indicating normal protein synthesis by the liver.\n",
            "* **Globulin:** The result is given, but not the normal range.  The Albumin/Globulin (A/G) ratio is also normal (1.2).\n",
            "\n",
            "**10. Serum Electrolytes:** These tests measure the levels of important minerals in the blood:\n",
            "\n",
            "* **Sodium:** Slightly low (122 mmol/L) compared to the normal range.\n",
            "* **Potassium:** Within the normal range.\n",
            "* **Chloride:** Slightly low (97 mmol/L) compared to the normal range.  Low sodium and chloride could point to dehydration or other issues, warranting further evaluation.\n",
            "\n",
            "\n",
            "**In summary:** While many of Mr. Goud's results are within normal ranges, the elevated ESR and slightly low sodium and chloride levels warrant further investigation by his doctor.  The slightly elevated liver enzymes also require attention. The Widal test results suggest possible past or present *Salmonella* infection, but this needs to be interpreted in the context of Mr. Goud's symptoms and clinical picture.  This report alone is insufficient for diagnosis; a doctor's interpretation is crucial.\n",
            "\n"
          ]
        }
      ]
    },
    {
      "cell_type": "code",
      "source": [
        "def ask_gemini_about_report(text,question):\n",
        "  \"\"\"Allows users to ask quetions about their health report.\"\"\"\n",
        "  model = genai.GenerativeModel(\"gemini-1.5-flash\")\n",
        "  prompt = f\"The following is a health report:\\n\\n{question}\\n\\nAnser the following question based on the report:\\n{question}\"\n",
        "  response = model.generate_content(prompt)\n",
        "  return response.text\n",
        "question = \"What is the patient's diagnosis?\"\n",
        "answer = ask_gemini_about_report(extracted_text,question)\n",
        "print(\"Answer:\\n\",answer)"
      ],
      "metadata": {
        "colab": {
          "base_uri": "https://localhost:8080/",
          "height": 89
        },
        "id": "g2u0QlN2Wd7s",
        "outputId": "e911126b-4df0-478e-eb38-ddc683a2f39f"
      },
      "execution_count": 10,
      "outputs": [
        {
          "output_type": "stream",
          "name": "stdout",
          "text": [
            "Answer:\n",
            " Please provide the health report. I need the text of the report to answer the question about the patient's diagnosis.\n",
            "\n"
          ]
        }
      ]
    },
    {
      "cell_type": "code",
      "source": [],
      "metadata": {
        "id": "r5mPzAAlX5iL"
      },
      "execution_count": null,
      "outputs": []
    }
  ]
}